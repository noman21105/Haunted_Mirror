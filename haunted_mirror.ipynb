{
 "cells": [
  {
   "cell_type": "code",
   "execution_count": 4,
   "metadata": {},
   "outputs": [
    {
     "name": "stdout",
     "output_type": "stream",
     "text": [
      " * Serving Flask app '__main__'\n",
      " * Debug mode: off\n"
     ]
    },
    {
     "name": "stderr",
     "output_type": "stream",
     "text": [
      "WARNING: This is a development server. Do not use it in a production deployment. Use a production WSGI server instead.\n",
      " * Running on http://127.0.0.1:5000\n",
      "Press CTRL+C to quit\n",
      "127.0.0.1 - - [01/Mar/2025 15:02:04] \"GET / HTTP/1.1\" 200 -\n",
      "127.0.0.1 - - [01/Mar/2025 15:02:04] \"GET /static/style.css HTTP/1.1\" 200 -\n",
      "127.0.0.1 - - [01/Mar/2025 15:02:04] \"GET /static/ghosts/ghost_2.jpeg HTTP/1.1\" 304 -\n",
      "127.0.0.1 - - [01/Mar/2025 15:02:04] \"GET /mirror_state HTTP/1.1\" 404 -\n",
      "127.0.0.1 - - [01/Mar/2025 15:02:04] \"GET /static/sounds/ghost_sound.mp3 HTTP/1.1\" 206 -\n",
      "127.0.0.1 - - [01/Mar/2025 15:02:07] \"GET /video_feed HTTP/1.1\" 200 -\n",
      "127.0.0.1 - - [01/Mar/2025 15:02:10] \"GET /favicon.ico HTTP/1.1\" 404 -\n",
      "127.0.0.1 - - [01/Mar/2025 15:02:10] \"GET /static/sounds/ghost_sound.mp3 HTTP/1.1\" 206 -\n"
     ]
    }
   ],
   "source": [
    "import cv2\n",
    "import numpy as np\n",
    "import random\n",
    "import nest_asyncio\n",
    "from flask import Flask, render_template, Response\n",
    "import os\n",
    "\n",
    "# Fix Flask for Jupyter Notebook\n",
    "nest_asyncio.apply()\n",
    "\n",
    "app = Flask(__name__)\n",
    "\n",
    "# Load Haar Cascade for face detection\n",
    "face_cascade = cv2.CascadeClassifier(cv2.data.haarcascades + \"haarcascade_frontalface_default.xml\")\n",
    "\n",
    "# Load ghost images (Ensure they are in static/ghosts/)\n",
    "ghost_images = [\n",
    "    cv2.imread(\"static/ghosts/ghost_1.jpeg\"),\n",
    "    cv2.imread(\"static/ghosts/ghost_2.jpeg\"),\n",
    "    cv2.imread(\"static/ghosts/ghost_3.jpg\")\n",
    "]\n",
    "\n",
    "def detect_face_tilt(faces, frame_width):\n",
    "    \"\"\"Detect if the face is tilted left or right.\"\"\"\n",
    "    if len(faces) == 1:\n",
    "        x, y, w, h = faces[0]\n",
    "        face_center_x = x + w // 2  # Find the center of the detected face\n",
    "\n",
    "        if face_center_x < frame_width * 0.4:  # Tilted Left\n",
    "            return \"left\"\n",
    "        elif face_center_x > frame_width * 0.6:  # Tilted Right\n",
    "            return \"right\"\n",
    "    \n",
    "    return \"straight\"  # If no face detected or in center, return 'straight'\n",
    "\n",
    "def overlay_ghost(frame, ghost):\n",
    "    \"\"\"Overlay a ghost image onto the frame.\"\"\"\n",
    "    ghost_resized = cv2.resize(ghost, (frame.shape[1], frame.shape[0]))  # Resize ghost to fit full frame\n",
    "    alpha = 1  # Adjust transparency level (0.0 - 1.0)\n",
    "    return cv2.addWeighted(frame, 1, ghost_resized, alpha, 0)\n",
    "\n",
    "def generate_frames():\n",
    "    cap = cv2.VideoCapture(0)  # Open webcam\n",
    "\n",
    "    while True:\n",
    "        ret, frame = cap.read()\n",
    "        if not ret:\n",
    "            break\n",
    "\n",
    "        frame = cv2.flip(frame, 1)  # Mirror effect\n",
    "        gray = cv2.cvtColor(frame, cv2.COLOR_BGR2GRAY)\n",
    "        faces = face_cascade.detectMultiScale(gray, scaleFactor=1.1, minNeighbors=5, minSize=(30, 30))\n",
    "\n",
    "        frame_width = frame.shape[1]\n",
    "        face_tilt = detect_face_tilt(faces, frame_width)\n",
    "\n",
    "        if face_tilt in [\"left\", \"right\"]:\n",
    "            ghost = random.choice(ghost_images)  # Randomly choose a ghost image\n",
    "            if ghost is not None:\n",
    "                frame = overlay_ghost(frame, ghost)\n",
    "\n",
    "        _, buffer = cv2.imencode('.jpg', frame)\n",
    "        yield (b'--frame\\r\\n' b'Content-Type: image/jpeg\\r\\n\\r\\n' + buffer.tobytes() + b'\\r\\n')\n",
    "\n",
    "@app.route('/')\n",
    "def index():\n",
    "    return render_template('index.html')\n",
    "\n",
    "@app.route('/video_feed')\n",
    "def video_feed():\n",
    "    return Response(generate_frames(), mimetype='multipart/x-mixed-replace; boundary=frame')\n",
    "\n",
    "if __name__ == '__main__':\n",
    "    app.run(debug=False, port=5000)\n"
   ]
  },
  {
   "cell_type": "code",
   "execution_count": null,
   "metadata": {},
   "outputs": [],
   "source": []
  },
  {
   "cell_type": "code",
   "execution_count": null,
   "metadata": {},
   "outputs": [],
   "source": []
  },
  {
   "cell_type": "code",
   "execution_count": null,
   "metadata": {},
   "outputs": [],
   "source": []
  }
 ],
 "metadata": {
  "kernelspec": {
   "display_name": "Python 3 (ipykernel)",
   "language": "python",
   "name": "python3"
  },
  "language_info": {
   "codemirror_mode": {
    "name": "ipython",
    "version": 3
   },
   "file_extension": ".py",
   "mimetype": "text/x-python",
   "name": "python",
   "nbconvert_exporter": "python",
   "pygments_lexer": "ipython3",
   "version": "3.10.0"
  }
 },
 "nbformat": 4,
 "nbformat_minor": 4
}
